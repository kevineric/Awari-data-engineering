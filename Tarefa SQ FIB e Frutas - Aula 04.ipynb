{
 "cells": [
  {
   "cell_type": "markdown",
   "id": "2cd86c00",
   "metadata": {},
   "source": [
    "### SEQ FIBONACCI ATÉ 100"
   ]
  },
  {
   "cell_type": "code",
   "execution_count": 7,
   "id": "54edccab",
   "metadata": {},
   "outputs": [
    {
     "name": "stdout",
     "output_type": "stream",
     "text": [
      "0\n",
      "1\n",
      "1\n",
      "2\n",
      "3\n",
      "5\n",
      "8\n",
      "13\n",
      "21\n",
      "34\n",
      "55\n",
      "89\n"
     ]
    }
   ],
   "source": [
    "a, b = 0, 1\n",
    "print(a)\n",
    "while b <= 100:\n",
    "    print(b)\n",
    "    \n",
    "    a, b = b, a + b"
   ]
  },
  {
   "cell_type": "markdown",
   "id": "389a1a4a",
   "metadata": {},
   "source": [
    "### FATORAÇÃO NR 1024"
   ]
  },
  {
   "cell_type": "code",
   "execution_count": 6,
   "id": "21ff7f61",
   "metadata": {},
   "outputs": [
    {
     "name": "stdout",
     "output_type": "stream",
     "text": [
      "Fatoração de 1024: 2 * 2 * 2 * 2 * 2 * 2 * 2 * 2 * 2 * 2\n"
     ]
    }
   ],
   "source": [
    "numero = 1024\n",
    "fatores = []\n",
    "\n",
    "while numero % 2 == 0:\n",
    "    fatores.append(2)\n",
    "    numero = numero // 2\n",
    "\n",
    "for i in range(3, int(numero**0.5) + 1, 2):\n",
    "    while numero % i == 0:\n",
    "        fatores.append(i)\n",
    "        numero = numero // i\n",
    "\n",
    "if numero > 1:\n",
    "    fatores.append(numero)\n",
    "\n",
    "print(\"Fatoração de 1024:\", \" * \".join(map(str, fatores)))"
   ]
  },
  {
   "cell_type": "markdown",
   "id": "8d7c18fb",
   "metadata": {},
   "source": [
    "### LISTA DE FRUTAS"
   ]
  },
  {
   "cell_type": "code",
   "execution_count": 10,
   "id": "0f9f17b4",
   "metadata": {},
   "outputs": [
    {
     "name": "stdout",
     "output_type": "stream",
     "text": [
      "Digite o nome de uma fruta ou 999 para sair: pera\n",
      "pera foi adicionada à lista de frutas.\n",
      "Digite o nome de uma fruta ou 999 para sair: 999\n",
      "Lista de frutas atual: ['banana', 'amora', 'melancia', 'pera']\n"
     ]
    }
   ],
   "source": [
    "frutas = [\"banana\", \"amora\", \"melancia\"]\n",
    "\n",
    "while True:\n",
    "    entrada = input(\"Digite o nome de uma fruta ou 999 para sair: \")\n",
    "\n",
    "    if entrada == \"999\":\n",
    "        break\n",
    "\n",
    "    if entrada in frutas:\n",
    "        print(f\"{entrada} já está na lista.\")\n",
    "    else:\n",
    "        frutas.append(entrada)\n",
    "        print(f\"{entrada} foi adicionada à lista de frutas.\")\n",
    "\n",
    "print(\"Lista de frutas atual:\", frutas)"
   ]
  }
 ],
 "metadata": {
  "kernelspec": {
   "display_name": "Python 3 (ipykernel)",
   "language": "python",
   "name": "python3"
  },
  "language_info": {
   "codemirror_mode": {
    "name": "ipython",
    "version": 3
   },
   "file_extension": ".py",
   "mimetype": "text/x-python",
   "name": "python",
   "nbconvert_exporter": "python",
   "pygments_lexer": "ipython3",
   "version": "3.10.9"
  }
 },
 "nbformat": 4,
 "nbformat_minor": 5
}
