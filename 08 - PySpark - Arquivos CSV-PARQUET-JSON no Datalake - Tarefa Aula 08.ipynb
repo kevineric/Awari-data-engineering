{
 "cells": [
  {
   "cell_type": "code",
   "execution_count": 46,
   "id": "ff2538a7-fb40-4c71-85f0-9a8796108278",
   "metadata": {
    "tags": []
   },
   "outputs": [],
   "source": [
    "import pyspark\n",
    "import boto3\n",
    "\n",
    "from io import StringIO \n",
    "from pyspark.sql import SparkSession\n",
    "from pyspark.sql.types import StructType,StructField, StringType, IntegerType \n",
    "from pyspark.sql.types import ArrayType, DoubleType, BooleanType\n",
    "from pyspark.sql.functions import col,array_contains"
   ]
  },
  {
   "cell_type": "markdown",
   "id": "3c1b63d5-bbba-4f21-8b0b-e6207087ef4d",
   "metadata": {},
   "source": [
    "## CONFIG SESSÃO SPARK LOCAL"
   ]
  },
  {
   "cell_type": "code",
   "execution_count": 19,
   "id": "1dbc29c3-4073-450b-aadd-a6e8c51d93af",
   "metadata": {
    "tags": []
   },
   "outputs": [],
   "source": [
    "conf = pyspark.SparkConf()\n",
    "\n",
    "# Criando uma sessão com o Spark que existe localmente(atualmente configurado junto com o JupyterLab)\n",
    "conf.setMaster(\"local[1]\") \n",
    "conf.set(\"spark.driver.host\", \"awari-jupyterlab\") \\\n",
    "    .set(\"spark.sql.sources.commitProtocolClass\", \"org.apache.spark.sql.execution.datasources.SQLHadoopMapReduceCommitProtocol\") \\\n",
    "    .set(\"parquet.enable.summary-metadata\", \"false\") \\\n",
    "    .set(\"mapreduce.fileoutputcommitter.marksuccessfuljobs\", \"false\") \\\n",
    "    .set(\"spark.driver.port\", \"20020\") \\\n",
    "    .set(\"spark.hadoop.fs.s3a.endpoint\", 'awari-nginx:9000') \\\n",
    "    .set(\"spark.hadoop.fs.s3a.endpoint.region\", 'sa-east-1') \\\n",
    "    .set(\"spark.hadoop.fs.s3a.access.key\", 'EVrYpCgbPdv0KWQV') \\\n",
    "    .set(\"spark.hadoop.fs.s3a.secret.key\", 'Hlli13j51CZLRdGlFkO2RZzcIZ1hnOvt') \\\n",
    "    .set(\"spark.hadoop.fs.s3a.impl\", \"org.apache.hadoop.fs.s3a.S3AFileSystem\") \\\n",
    "    .set(\"spark.hadoop.fs.s3a.connection.ssl.enabled\", \"false\") \\\n",
    "    .set(\"spark.hadoop.com.amazonaws.services.s3.enableV2\", \"true\") \\\n",
    "    .set(\"spark.hadoop.fs.s3a.committer.staging.conflict-mode\", \"replace\") \\\n",
    "    .set(\"spark.hadoop.fs.s3a.fast.upload\", True) \\\n",
    "    .set(\"spark.hadoop.fs.s3a.path.style.access\", True) \\\n",
    "    .set(\"spark.hadoop.fs.s3a.committer.name\", \"directory\") \\\n",
    "    .set(\"spark.hadoop.fs.s3a.committer.staging.tmp.path\", \"/tmp/staging\")\n",
    "\n",
    "conf.setAppName('AwariAula08-S33')\n",
    "sc = pyspark.SparkContext(conf=conf)\n",
    "\n",
    "spark = SparkSession(sc)"
   ]
  },
  {
   "cell_type": "code",
   "execution_count": 23,
   "id": "056e2a4f-a20d-4821-a06a-7606da7bb708",
   "metadata": {
    "tags": []
   },
   "outputs": [],
   "source": [
    "client = boto3.client('s3', \n",
    "    endpoint_url='http://awari-minio-nginx:9000',\n",
    "    aws_access_key_id='EVrYpCgbPdv0KWQV',\n",
    "    aws_secret_access_key='Hlli13j51CZLRdGlFkO2RZzcIZ1hnOvt',\n",
    "    aws_session_token=None,\n",
    "    config=boto3.session.Config(signature_version='s3v4'),\n",
    "    verify=False,\n",
    "    region_name='sa-east-1'\n",
    ")"
   ]
  },
  {
   "cell_type": "code",
   "execution_count": 20,
   "id": "81cf99e9-ef86-43a5-b404-7f8c1644956b",
   "metadata": {
    "tags": []
   },
   "outputs": [
    {
     "name": "stdout",
     "output_type": "stream",
     "text": [
      "+---------+---+-------------------+--------+---------+--------+\n",
      "|codigo_uf| uf|               nome|latitude|longitude|  regiao|\n",
      "+---------+---+-------------------+--------+---------+--------+\n",
      "|       11| RO|           Rondônia|  -10.83|   -63.34|   Norte|\n",
      "|       12| AC|               Acre|   -8.77|   -70.55|   Norte|\n",
      "|       13| AM|           Amazonas|   -3.47|    -65.1|   Norte|\n",
      "|       14| RR|            Roraima|    1.99|   -61.33|   Norte|\n",
      "|       15| PA|               Pará|   -3.79|   -52.48|   Norte|\n",
      "|       16| AP|              Amapá|    1.41|   -51.77|   Norte|\n",
      "|       17| TO|          Tocantins|   -9.46|   -48.26|   Norte|\n",
      "|       21| MA|           Maranhão|   -5.42|   -45.44|Nordeste|\n",
      "|       22| PI|              Piauí|    -6.6|   -42.28|Nordeste|\n",
      "|       23| CE|              Ceará|    -5.2|   -39.53|Nordeste|\n",
      "|       24| RN|Rio Grande do Norte|   -5.81|   -36.59|Nordeste|\n",
      "|       25| PB|            Paraíba|   -7.28|   -36.72|Nordeste|\n",
      "|       26| PE|         Pernambuco|   -8.38|   -37.86|Nordeste|\n",
      "|       27| AL|            Alagoas|   -9.62|   -36.82|Nordeste|\n",
      "|       28| SE|            Sergipe|  -10.57|   -37.45|Nordeste|\n",
      "|       29| BA|              Bahia|  -13.29|   -41.71|Nordeste|\n",
      "|       31| MG|       Minas Gerais|   -18.1|   -44.38| Sudeste|\n",
      "|       32| ES|     Espírito Santo|  -19.19|   -40.34| Sudeste|\n",
      "|       33| RJ|     Rio de Janeiro|  -22.25|   -42.66| Sudeste|\n",
      "|       35| SP|          São Paulo|  -22.19|   -48.79| Sudeste|\n",
      "+---------+---+-------------------+--------+---------+--------+\n",
      "only showing top 20 rows\n",
      "\n",
      "root\n",
      " |-- codigo_uf: string (nullable = true)\n",
      " |-- uf: string (nullable = true)\n",
      " |-- nome: string (nullable = true)\n",
      " |-- latitude: string (nullable = true)\n",
      " |-- longitude: string (nullable = true)\n",
      " |-- regiao: string (nullable = true)\n",
      "\n",
      "None None\n",
      "+-----------+-------------------+--------+---------+-------+---------+--------+---+-----------------+\n",
      "|codigo_ibge|               nome|latitude|longitude|capital|codigo_uf|siafi_id|ddd|     fuso_horario|\n",
      "+-----------+-------------------+--------+---------+-------+---------+--------+---+-----------------+\n",
      "|    5200050|    Abadia de Goiás|-16.7573| -49.4412|      0|       52|    1050| 62|America/Sao_Paulo|\n",
      "|    3100104|Abadia dos Dourados|-18.4831| -47.3916|      0|       31|    4001| 34|America/Sao_Paulo|\n",
      "|    5200100|          Abadiânia| -16.197| -48.7057|      0|       52|    9201| 62|America/Sao_Paulo|\n",
      "|    3100203|             Abaeté|-19.1551| -45.4444|      0|       31|    4003| 37|America/Sao_Paulo|\n",
      "|    1500107|         Abaetetuba|-1.72183| -48.8788|      0|       15|    0401| 91|America/Sao_Paulo|\n",
      "|    2300101|            Abaiara|-7.34588| -39.0416|      0|       23|    1301| 88|America/Sao_Paulo|\n",
      "|    2900108|             Abaíra|-13.2488| -41.6619|      0|       29|    3301| 77|America/Sao_Paulo|\n",
      "|    2900207|              Abaré|-8.72073| -39.1162|      0|       29|    3303| 75|America/Sao_Paulo|\n",
      "|    4100103|             Abatiá|-23.3049| -50.3133|      0|       41|    7401| 43|America/Sao_Paulo|\n",
      "|    4200051|      Abdon Batista|-27.6126| -51.0233|      0|       42|    9939| 49|America/Sao_Paulo|\n",
      "|    1500131|    Abel Figueiredo|-4.95333| -48.3933|      0|       15|    0375| 94|America/Sao_Paulo|\n",
      "|    4200101|       Abelardo Luz|-26.5716| -52.3229|      0|       42|    8001| 49|America/Sao_Paulo|\n",
      "|    3100302|         Abre Campo|-20.2996| -42.4743|      0|       31|    4005| 31|America/Sao_Paulo|\n",
      "|    2600054|       Abreu e Lima|-7.90072| -34.8984|      0|       26|    2631| 81|America/Sao_Paulo|\n",
      "|    1700251|        Abreulândia|-9.62101| -49.1518|      0|       17|    0337| 63|America/Sao_Paulo|\n",
      "|    3100401|            Acaiaca| -20.359| -43.1439|      0|       31|    4007| 31|America/Sao_Paulo|\n",
      "|    2100055|         Açailândia|-4.94714| -47.5004|      0|       21|    0961| 99|America/Sao_Paulo|\n",
      "|    2900306|          Acajutiba|-11.6575| -38.0197|      0|       29|    3305| 75|America/Sao_Paulo|\n",
      "|    1500206|              Acará|-1.95383| -48.1985|      0|       15|    0403| 91|America/Sao_Paulo|\n",
      "|    2300150|            Acarape|-4.22083| -38.7055|      0|       23|    1231| 85|America/Sao_Paulo|\n",
      "+-----------+-------------------+--------+---------+-------+---------+--------+---+-----------------+\n",
      "only showing top 20 rows\n",
      "\n",
      "root\n",
      " |-- codigo_ibge: string (nullable = true)\n",
      " |-- nome: string (nullable = true)\n",
      " |-- latitude: string (nullable = true)\n",
      " |-- longitude: string (nullable = true)\n",
      " |-- capital: string (nullable = true)\n",
      " |-- codigo_uf: string (nullable = true)\n",
      " |-- siafi_id: string (nullable = true)\n",
      " |-- ddd: string (nullable = true)\n",
      " |-- fuso_horario: string (nullable = true)\n",
      "\n",
      "None None\n"
     ]
    }
   ],
   "source": [
    "df_estados = spark.read.option(\"header\", True).csv(\"municipios-estados/csv/estados.csv\")\n",
    "df_municipios = spark.read.option(\"header\", True).csv(\"municipios-estados/csv/municipios.csv\")\n",
    "\n",
    "print(df_estados.show(), df_estados.printSchema())\n",
    "print(df_municipios.show(), df_municipios.printSchema())"
   ]
  },
  {
   "cell_type": "code",
   "execution_count": 21,
   "id": "f5e04625-0fb3-49ba-85d4-b7a2c8589579",
   "metadata": {
    "tags": []
   },
   "outputs": [],
   "source": [
    "df_estados.createOrReplaceTempView(\"ESTADOS\")\n",
    "df_municipios.createOrReplaceTempView(\"MUNICIPIOS\")"
   ]
  },
  {
   "cell_type": "code",
   "execution_count": 22,
   "id": "ac7e862b-8934-4b5b-bf13-509ca7d9c2d4",
   "metadata": {
    "tags": []
   },
   "outputs": [
    {
     "name": "stdout",
     "output_type": "stream",
     "text": [
      "+-----------+-------------------+--------+---------+-------+---------+--------+---+-----------------+---+\n",
      "|codigo_ibge|               nome|latitude|longitude|capital|codigo_uf|siafi_id|ddd|     fuso_horario| uf|\n",
      "+-----------+-------------------+--------+---------+-------+---------+--------+---+-----------------+---+\n",
      "|    5200050|    Abadia de Goiás|-16.7573| -49.4412|      0|       52|    1050| 62|America/Sao_Paulo| GO|\n",
      "|    3100104|Abadia dos Dourados|-18.4831| -47.3916|      0|       31|    4001| 34|America/Sao_Paulo| MG|\n",
      "|    5200100|          Abadiânia| -16.197| -48.7057|      0|       52|    9201| 62|America/Sao_Paulo| GO|\n",
      "|    3100203|             Abaeté|-19.1551| -45.4444|      0|       31|    4003| 37|America/Sao_Paulo| MG|\n",
      "|    1500107|         Abaetetuba|-1.72183| -48.8788|      0|       15|    0401| 91|America/Sao_Paulo| PA|\n",
      "|    2300101|            Abaiara|-7.34588| -39.0416|      0|       23|    1301| 88|America/Sao_Paulo| CE|\n",
      "|    2900108|             Abaíra|-13.2488| -41.6619|      0|       29|    3301| 77|America/Sao_Paulo| BA|\n",
      "|    2900207|              Abaré|-8.72073| -39.1162|      0|       29|    3303| 75|America/Sao_Paulo| BA|\n",
      "|    4100103|             Abatiá|-23.3049| -50.3133|      0|       41|    7401| 43|America/Sao_Paulo| PR|\n",
      "|    4200051|      Abdon Batista|-27.6126| -51.0233|      0|       42|    9939| 49|America/Sao_Paulo| SC|\n",
      "|    1500131|    Abel Figueiredo|-4.95333| -48.3933|      0|       15|    0375| 94|America/Sao_Paulo| PA|\n",
      "|    4200101|       Abelardo Luz|-26.5716| -52.3229|      0|       42|    8001| 49|America/Sao_Paulo| SC|\n",
      "|    3100302|         Abre Campo|-20.2996| -42.4743|      0|       31|    4005| 31|America/Sao_Paulo| MG|\n",
      "|    2600054|       Abreu e Lima|-7.90072| -34.8984|      0|       26|    2631| 81|America/Sao_Paulo| PE|\n",
      "|    1700251|        Abreulândia|-9.62101| -49.1518|      0|       17|    0337| 63|America/Sao_Paulo| TO|\n",
      "|    3100401|            Acaiaca| -20.359| -43.1439|      0|       31|    4007| 31|America/Sao_Paulo| MG|\n",
      "|    2100055|         Açailândia|-4.94714| -47.5004|      0|       21|    0961| 99|America/Sao_Paulo| MA|\n",
      "|    2900306|          Acajutiba|-11.6575| -38.0197|      0|       29|    3305| 75|America/Sao_Paulo| BA|\n",
      "|    1500206|              Acará|-1.95383| -48.1985|      0|       15|    0403| 91|America/Sao_Paulo| PA|\n",
      "|    2300150|            Acarape|-4.22083| -38.7055|      0|       23|    1231| 85|America/Sao_Paulo| CE|\n",
      "+-----------+-------------------+--------+---------+-------+---------+--------+---+-----------------+---+\n",
      "only showing top 20 rows\n",
      "\n",
      "None\n"
     ]
    }
   ],
   "source": [
    "df_join = spark.sql('''\n",
    "SELECT \n",
    "  mun.*\n",
    ", es.uf\n",
    "FROM MUNICIPIOS AS mun\n",
    "JOIN ESTADOS AS es ON mun.codigo_uf=es.codigo_uf\n",
    "''')\n",
    "print(df_join.show())"
   ]
  },
  {
   "cell_type": "code",
   "execution_count": 91,
   "id": "c5d92849-897b-49a6-8066-9fad31e173f1",
   "metadata": {
    "tags": []
   },
   "outputs": [],
   "source": [
    "df_estados.write.csv(\"tarefa-aula-08/csv/estados.csv\", header=True, mode=\"overwrite\")\n",
    "df_municipios.write.csv(\"tarefa-aula-08/csv/municipios.csv\", header=True, mode=\"overwrite\")"
   ]
  },
  {
   "cell_type": "code",
   "execution_count": 95,
   "id": "4263a442-5005-405d-830e-6ecdceb9e457",
   "metadata": {
    "tags": []
   },
   "outputs": [],
   "source": [
    "client.upload_file(\"tarefa-aula-08/csv/estados.csv/part-00000-e0be20d9-05fe-43e8-8b90-c3b9bf814dac-c000.csv\", \"tarefa-aula-08\", \"csv/estados.csv\")\n",
    "client.upload_file(\"tarefa-aula-08/csv/municipios.csv/part-00000-a327fc74-62fd-4dcb-9bca-5cec882edabe-c000.csv\", \"tarefa-aula-08\", \"csv/municipios.csv\")"
   ]
  },
  {
   "cell_type": "code",
   "execution_count": 100,
   "id": "80cb5a95-8dc5-43ad-b3f1-c37e1ece0948",
   "metadata": {
    "tags": []
   },
   "outputs": [],
   "source": [
    "df_estados.write.json(\"tarefa-aula-08/json/estados.json\", mode=\"overwrite\")\n",
    "df_municipios.write.json(\"tarefa-aula-08/json/municipios.json\", mode=\"overwrite\")"
   ]
  },
  {
   "cell_type": "code",
   "execution_count": 98,
   "id": "83f9f708-5668-4eb0-9b80-b29016d1799e",
   "metadata": {
    "tags": []
   },
   "outputs": [],
   "source": [
    "client.upload_file(\"tarefa-aula-08/json/estados.json/part-00000-69e3c5c1-f338-4f39-91d4-7b88ec692de4-c000.json\", \"tarefa-aula-08\", \"json/estados.json\")\n",
    "client.upload_file(\"tarefa-aula-08/json/municipios.json/part-00000-5b2d838c-7016-45e3-92cf-597e76f36d72-c000.json\", \"tarefa-aula-08\", \"json/municipios.json\")"
   ]
  },
  {
   "cell_type": "code",
   "execution_count": 99,
   "id": "2b3043d8-ede5-49c2-9ae3-8d993a562981",
   "metadata": {
    "tags": []
   },
   "outputs": [],
   "source": [
    "df_estados.write.parquet(\"tarefa-aula-08/parquet/estados.parquet\", mode=\"overwrite\")\n",
    "df_municipios.write.parquet(\"tarefa-aula-08/parquet/municipios.parquet\", mode=\"overwrite\")"
   ]
  },
  {
   "cell_type": "code",
   "execution_count": 101,
   "id": "40fbf21b-66a5-4d12-a070-ea9cdf958f79",
   "metadata": {
    "tags": []
   },
   "outputs": [],
   "source": [
    "client.upload_file(\"tarefa-aula-08/parquet/estados.parquet/part-00000-8b3e4a5b-cdc5-4919-86fa-969a7246141b-c000.snappy.parquet\", \"tarefa-aula-08\", \"parquet/estados.parquet\")\n",
    "client.upload_file(\"tarefa-aula-08/parquet/municipios.parquet/part-00000-6580d635-a104-4446-ac2a-d6bf50818b52-c000.snappy.parquet\", \"tarefa-aula-08\", \"parquet/municipios.parquet\")"
   ]
  }
 ],
 "metadata": {
  "kernelspec": {
   "display_name": "Python 3 (ipykernel)",
   "language": "python",
   "name": "python3"
  },
  "language_info": {
   "codemirror_mode": {
    "name": "ipython",
    "version": 3
   },
   "file_extension": ".py",
   "mimetype": "text/x-python",
   "name": "python",
   "nbconvert_exporter": "python",
   "pygments_lexer": "ipython3",
   "version": "3.10.9"
  }
 },
 "nbformat": 4,
 "nbformat_minor": 5
}
